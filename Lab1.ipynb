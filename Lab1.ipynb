{
  "nbformat": 4,
  "nbformat_minor": 0,
  "metadata": {
    "colab": {
      "name": "Lab1.ipynb",
      "provenance": [],
      "collapsed_sections": [],
      "authorship_tag": "ABX9TyMeCT/9tjimfH+ZKXmCOAE/",
      "include_colab_link": true
    },
    "kernelspec": {
      "name": "python3",
      "display_name": "Python 3"
    },
    "language_info": {
      "name": "python"
    }
  },
  "cells": [
    {
      "cell_type": "markdown",
      "metadata": {
        "id": "view-in-github",
        "colab_type": "text"
      },
      "source": [
        "<a href=\"https://colab.research.google.com/github/arrabelasanchez/CPEN-ECE-2-2/blob/main/Lab1.ipynb\" target=\"_parent\"><img src=\"https://colab.research.google.com/assets/colab-badge.svg\" alt=\"Open In Colab\"/></a>"
      ]
    },
    {
      "cell_type": "markdown",
      "metadata": {
        "id": "SpYlr4UBstND"
      },
      "source": [
        "#Welcome to Python Programming"
      ]
    },
    {
      "cell_type": "code",
      "metadata": {
        "colab": {
          "base_uri": "https://localhost:8080/"
        },
        "id": "5aQLsLSDs3f8",
        "outputId": "da7b18cd-1eea-406a-b173-03e2c5ab49d5"
      },
      "source": [
        "print ('Welcome to Python Programming')\n",
        "fname = \"Arrabela\"\n",
        "lname = \"Sanchez\"\n",
        "print (\"Name:\", fname, lname)\n",
        "age = 19\n",
        "print (\"Age:\", age)\n",
        "x = \"Bambang Calaca, Batangas\"\n",
        "print (\"Address:\", x)"
      ],
      "execution_count": null,
      "outputs": [
        {
          "output_type": "stream",
          "name": "stdout",
          "text": [
            "Welcome to Python Programming\n",
            "Name: Arrabela Sanchez\n",
            "Age: 19\n",
            "Address: Bambang Calaca, Batangas\n"
          ]
        }
      ]
    }
  ]
}